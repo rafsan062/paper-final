{
 "cells": [
  {
   "cell_type": "code",
   "execution_count": 1,
   "metadata": {},
   "outputs": [],
   "source": [
    "import torch \n",
    "import torch.nn as nn\n",
    "from torch.utils.data import Dataset, DataLoader\n",
    "from torchvision import transforms\n",
    "from torch.autograd import Variable\n",
    "\n",
    "import pandas as pd\n",
    "import numpy as np\n",
    "import matplotlib.pyplot as plt\n",
    "plt.rcParams['figure.dpi']= 150\n",
    "import seaborn as sns\n",
    "sns.set(style=\"whitegrid\")"
   ]
  },
  {
   "cell_type": "code",
   "execution_count": 2,
   "metadata": {},
   "outputs": [],
   "source": [
    "#hyper parameters \n",
    "\n",
    "input_size = 11\n",
    "hidden_size_1 = 128\n",
    "hidden_size_2 = 256\n",
    "hidden_size_3 = 512\n",
    "hidden_size_4 = 512\n",
    "hidden_size_5 = 256\n",
    "hidden_size_6 = 128\n",
    "output_size = 1\n",
    "\n",
    "learning_rate  = 0.001\n",
    "num_epochs = 1000\n",
    "batch_size = 100\n",
    "dropout = 0.65"
   ]
  },
  {
   "cell_type": "code",
   "execution_count": 3,
   "metadata": {},
   "outputs": [],
   "source": [
    "#Data loading\n",
    "\n",
    "class AirMeteoroPatientDataset(Dataset):\n",
    "\n",
    "    def __init__(self):\n",
    "        xy = pd.read_csv('Darussalam All year(generated, processed).csv')\n",
    "        self.len = xy.shape[0]\n",
    "        self.X_data = torch.from_numpy(xy.iloc[:,1:12].values)\n",
    "        self.y_data = torch.from_numpy(xy.iloc[:,12:13].values)\n",
    "\n",
    "    def __getitem__(self, index):\n",
    "        return self.X_data[index], self.y_data[index]\n",
    "\n",
    "    def __len__(self):\n",
    "        return self.len"
   ]
  },
  {
   "cell_type": "code",
   "execution_count": 4,
   "metadata": {},
   "outputs": [],
   "source": [
    "# Dataset creation and normalization\n",
    "\n",
    "dataset = AirMeteoroPatientDataset()\n",
    "dataset_inp = dataset.X_data\n",
    "means = torch.mean(dataset_inp, dim=0, keepdim=True) # Computing mean across the data points. This results in a ndarray of size [1, 10]\n",
    "std = torch.std(dataset_inp, dim=0, keepdim=True)   # Same as before\n",
    "\n",
    "dataset.X_data = (dataset_inp - means) / std"
   ]
  },
  {
   "cell_type": "code",
   "execution_count": 5,
   "metadata": {},
   "outputs": [],
   "source": [
    "#Dataset split\n",
    "\n",
    "train_size = round(len(dataset) * 0.6)\n",
    "val_size = round((len(dataset) - train_size)/2)\n",
    "test_size = len(dataset) - train_size - val_size\n",
    "\n",
    "train_set, val_set, test_set = torch.utils.data.random_split(dataset,[train_size, val_size, test_size])"
   ]
  },
  {
   "cell_type": "code",
   "execution_count": 6,
   "metadata": {
    "scrolled": true
   },
   "outputs": [],
   "source": [
    "#making mini-batches for training set\n",
    "\n",
    "train_loader = DataLoader(dataset = train_set,\n",
    "                          batch_size = batch_size,\n",
    "                          shuffle = True)"
   ]
  },
  {
   "cell_type": "code",
   "execution_count": 7,
   "metadata": {},
   "outputs": [],
   "source": [
    "#model building\n",
    "\n",
    "class Model(nn.Module):\n",
    "    def __init__(self, input_size, hidden_size_1, hidden_size_2, hidden_size_3, hidden_size_4, hidden_size_5, hidden_size_6, output_size, p = 0.0):\n",
    "        super(Model, self).__init__()\n",
    "        \n",
    "        #linear_layers\n",
    "        self.linear1 = nn.Linear(in_features = input_size, out_features = hidden_size_1, bias = True)\n",
    "        self.linear2 = nn.Linear(in_features = hidden_size_1, out_features = hidden_size_2, bias = True)\n",
    "        self.linear3 = nn.Linear(in_features = hidden_size_2, out_features = hidden_size_3, bias = True)\n",
    "        self.linear4 = nn.Linear(in_features = hidden_size_3, out_features = hidden_size_4, bias = True)\n",
    "        self.linear5 = nn.Linear(in_features = hidden_size_4, out_features = hidden_size_5, bias = True)\n",
    "        self.linear6 = nn.Linear(in_features = hidden_size_5, out_features = hidden_size_6, bias = True)\n",
    "        self.linear7 = nn.Linear(in_features = hidden_size_6, out_features = output_size, bias = True)\n",
    "        \n",
    "        #dropouts\n",
    "        self.dropout = nn.Dropout(p = p)\n",
    "        \n",
    "        #activation\n",
    "        self.relu = nn.ReLU()\n",
    "        \n",
    "        #batchnorm\n",
    "        self.batchnorm1 = nn.BatchNorm1d(num_features = hidden_size_1)\n",
    "        self.batchnorm2 = nn.BatchNorm1d(num_features = hidden_size_2)\n",
    "        self.batchnorm3 = nn.BatchNorm1d(num_features = hidden_size_3)\n",
    "        self.batchnorm4 = nn.BatchNorm1d(num_features = hidden_size_4)\n",
    "        self.batchnorm5 = nn.BatchNorm1d(num_features = hidden_size_5)\n",
    "        self.batchnorm6 = nn.BatchNorm1d(num_features = hidden_size_6)\n",
    "        \n",
    "        \n",
    "    def forward(self, X):\n",
    "        z1 = self.linear1(X)\n",
    "        a1 = self.dropout(self.relu(self.batchnorm1(z1)))\n",
    "        \n",
    "        z2 = self.linear2(a1)\n",
    "        a2 = self.dropout(self.relu(self.batchnorm2(z2)))\n",
    "        \n",
    "        z3 = self.linear3(a2)\n",
    "        a3 = self.dropout(self.relu(self.batchnorm3(z3)))\n",
    "        \n",
    "        z4 = self.linear4(a3)\n",
    "        a4 = self.dropout(self.relu(self.batchnorm4(z4)))\n",
    "        \n",
    "        z5 = self.linear5(a4)\n",
    "        a5 = self.dropout(self.relu(self.batchnorm5(z5)))\n",
    "        \n",
    "        z6 = self.linear6(a5)\n",
    "        a6 = self.dropout(self.relu(self.batchnorm6(z6)))\n",
    "        \n",
    "        out = self.linear7(a6)\n",
    "        return out\n",
    "    "
   ]
  },
  {
   "cell_type": "code",
   "execution_count": 8,
   "metadata": {},
   "outputs": [],
   "source": [
    "#model initialization\n",
    "\n",
    "model = Model(input_size, hidden_size_1, hidden_size_2, hidden_size_3, hidden_size_4, hidden_size_5, hidden_size_6, output_size, p= dropout).float().cuda()"
   ]
  },
  {
   "cell_type": "code",
   "execution_count": 9,
   "metadata": {},
   "outputs": [],
   "source": [
    "#Loss function and optimizer\n",
    "\n",
    "criterion = nn.L1Loss()\n",
    "optimizer = torch.optim.Adam(model.parameters(), lr = learning_rate)"
   ]
  },
  {
   "cell_type": "code",
   "execution_count": 10,
   "metadata": {},
   "outputs": [
    {
     "name": "stdout",
     "output_type": "stream",
     "text": [
      "Train loss after Epoch [50/1000]: 17.055279\n",
      "Train loss after Epoch [100/1000]: 10.224617\n",
      "Train loss after Epoch [150/1000]: 14.192698\n",
      "Train loss after Epoch [200/1000]: 10.156314\n",
      "Train loss after Epoch [250/1000]: 13.449133\n",
      "Train loss after Epoch [300/1000]: 14.400348\n",
      "Train loss after Epoch [350/1000]: 10.223034\n",
      "Train loss after Epoch [400/1000]: 12.232325\n",
      "Train loss after Epoch [450/1000]: 11.600279\n",
      "Train loss after Epoch [500/1000]: 9.396484\n",
      "Train loss after Epoch [550/1000]: 11.307986\n",
      "Train loss after Epoch [600/1000]: 18.273285\n",
      "Train loss after Epoch [650/1000]: 10.821129\n",
      "Train loss after Epoch [700/1000]: 9.903555\n",
      "Train loss after Epoch [750/1000]: 10.727598\n",
      "Train loss after Epoch [800/1000]: 9.681492\n",
      "Train loss after Epoch [850/1000]: 13.845981\n",
      "Train loss after Epoch [900/1000]: 16.080647\n",
      "Train loss after Epoch [950/1000]: 12.545605\n",
      "Train loss after Epoch [1000/1000]: 8.715652\n"
     ]
    }
   ],
   "source": [
    "#itertaion and learning parameters\n",
    "\n",
    "all_test_loss = []\n",
    "all_val_loss = []\n",
    "n_total_steps = len(train_loader)\n",
    "for epoch in range(num_epochs):\n",
    "    model.train()\n",
    "    for i, (X_data, y_data) in enumerate(train_loader):  \n",
    "       \n",
    "        X_data = X_data.cuda()\n",
    "        y_data = y_data.cuda()\n",
    "        \n",
    "        # Forward pass\n",
    "        outputs = model(X_data.float())\n",
    "        loss = criterion(outputs, y_data.float())\n",
    "        \n",
    "        # Backprop and optimize\n",
    "        optimizer.zero_grad()\n",
    "        loss.backward()\n",
    "        optimizer.step()\n",
    "    \n",
    "    \n",
    "    if (epoch +1) % 50 == 0:\n",
    "        print (f'Train loss after Epoch [{epoch+1}/{num_epochs}]: {loss.item():.6f}')\n",
    "            \n",
    "    all_test_loss.append(loss)\n",
    "    \n",
    "    X_val = torch.empty(0, 11).float().cuda()\n",
    "    y_val = torch.empty(0,1).float().cuda()\n",
    "    for i, (X_data, y_data) in enumerate(val_set):\n",
    "        X_data = X_data.float().reshape(1,11).cuda()\n",
    "        X_val = torch.cat((X_val, X_data), 0)\n",
    "    \n",
    "        y_data = y_data.float().reshape(1,1).cuda()\n",
    "        y_val = torch.cat((y_val, y_data), 0)\n",
    "        \n",
    "    model.eval()\n",
    "    \n",
    "    with torch.no_grad():\n",
    "        outputs = model(X_val).cuda()\n",
    "        val_loss = criterion(outputs, y_val)\n",
    "        all_val_loss.append(val_loss)"
   ]
  },
  {
   "cell_type": "code",
   "execution_count": 11,
   "metadata": {},
   "outputs": [
    {
     "data": {
      "text/plain": [
       "Text(0, 0.5, 'Loss')"
      ]
     },
     "execution_count": 11,
     "metadata": {},
     "output_type": "execute_result"
    },
    {
     "data": {
      "image/png": "[encoded data removed]",
      "text/plain": [
       "<Figure size 432x288 with 1 Axes>"
      ]
     },
     "metadata": {
      "needs_background": "light"
     },
     "output_type": "display_data"
    }
   ],
   "source": [
    "#test_val_plot     \n",
    "\n",
    "plt.plot(list(range(0,epoch+1)), all_test_loss, label = 'Test')\n",
    "plt.plot(list(range(0,epoch+1)), all_val_loss, label = 'Validation')\n",
    "plt.legend(loc=\"upper right\")\n",
    "plt.xlabel('No. of epochs')\n",
    "plt.ylabel('Loss')"
   ]
  },
  {
   "cell_type": "code",
   "execution_count": 12,
   "metadata": {},
   "outputs": [],
   "source": [
    "#loading test set in tensors\n",
    "\n",
    "X_test = torch.empty(0, 11).float().cuda()\n",
    "y_test = torch.empty(0,1).float().cuda()\n",
    "for i, (X_data, y_data) in enumerate(test_set):\n",
    "    X_data = X_data.float().reshape(1,11).cuda()\n",
    "    X_test = torch.cat((X_test, X_data), 0)\n",
    "    \n",
    "    y_data = y_data.float().reshape(1,1).cuda()\n",
    "    y_test = torch.cat((y_test, y_data), 0)"
   ]
  },
  {
   "cell_type": "code",
   "execution_count": 13,
   "metadata": {},
   "outputs": [
    {
     "name": "stdout",
     "output_type": "stream",
     "text": [
      "Total Test loss 9.750640869140625\n"
     ]
    }
   ],
   "source": [
    "#determining test set loss\n",
    "with torch.no_grad():\n",
    "    model.eval()\n",
    "    outputs = model(X_test).cuda()\n",
    "    test_loss = criterion(outputs, y_test)\n",
    "    print('Total Test loss',test_loss.item())"
   ]
  },
  {
   "cell_type": "code",
   "execution_count": 14,
   "metadata": {},
   "outputs": [
    {
     "name": "stdout",
     "output_type": "stream",
     "text": [
      "Total MSE loss 163.87112426757812\n",
      "Total MAE loss 9.750640869140625\n",
      "Total Huber loss 9.261853218078613\n"
     ]
    }
   ],
   "source": [
    "loss_MSE = nn.MSELoss()\n",
    "loss_huber = nn.SmoothL1Loss()\n",
    "MAEloss = criterion(outputs, y_test)\n",
    "MSEloss = loss_MSE(outputs, y_test)\n",
    "Huberloss = loss_huber(outputs, y_test)\n",
    "print('Total MSE loss', MSEloss.item())\n",
    "print('Total MAE loss', MAEloss.item())\n",
    "print('Total Huber loss', Huberloss.item())"
   ]
  },
  {
   "cell_type": "code",
   "execution_count": null,
   "metadata": {},
   "outputs": [],
   "source": []
  }
 ],
 "metadata": {
  "kernelspec": {
   "display_name": "Python 3",
   "language": "python",
   "name": "python3"
  },
  "language_info": {
   "codemirror_mode": {
    "name": "ipython",
    "version": 3
   },
   "file_extension": ".py",
   "mimetype": "text/x-python",
   "name": "python",
   "nbconvert_exporter": "python",
   "pygments_lexer": "ipython3",
   "version": "3.7.4"
  }
 },
 "nbformat": 4,
 "nbformat_minor": 2
}
