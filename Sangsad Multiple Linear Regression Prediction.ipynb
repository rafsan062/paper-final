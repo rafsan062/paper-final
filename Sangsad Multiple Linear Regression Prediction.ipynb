{
 "cells": [
  {
   "cell_type": "code",
   "execution_count": 1,
   "metadata": {},
   "outputs": [],
   "source": [
    "import torch\n",
    "import torch.nn as nn\n",
    "from torch.utils.data import Dataset"
   ]
  },
  {
   "cell_type": "code",
   "execution_count": 2,
   "metadata": {},
   "outputs": [],
   "source": [
    "import pandas as pd\n",
    "import numpy as np\n",
    "import matplotlib.pyplot as plt"
   ]
  },
  {
   "cell_type": "code",
   "execution_count": 3,
   "metadata": {},
   "outputs": [],
   "source": [
    "#Data loading\n",
    "\n",
    "class AirMeteoroPatientDataset(Dataset):\n",
    "\n",
    "    def __init__(self):\n",
    "        xy = pd.read_csv('Sangsad All year(generated, processed).csv')\n",
    "        self.len = xy.shape[0]\n",
    "        self.X_data = torch.from_numpy(xy.iloc[:,1:12].values)\n",
    "        self.y_data = torch.from_numpy(xy.iloc[:,12:13].values)\n",
    "\n",
    "    def __getitem__(self, index):\n",
    "        return self.X_data[index], self.y_data[index]\n",
    "\n",
    "    def __len__(self):\n",
    "        return self.len"
   ]
  },
  {
   "cell_type": "code",
   "execution_count": 4,
   "metadata": {},
   "outputs": [],
   "source": [
    "# Dataset creation and normalization\n",
    "\n",
    "dataset = AirMeteoroPatientDataset()\n",
    "dataset_inp = dataset.X_data\n",
    "means = torch.mean(dataset_inp, dim=0, keepdim=True) # Computing mean across the data points. This results in a ndarray of size [1, 10]\n",
    "std = torch.std(dataset_inp, dim=0, keepdim=True)   # Same as before\n",
    "\n",
    "dataset.X_data = (dataset_inp - means) / std"
   ]
  },
  {
   "cell_type": "code",
   "execution_count": 5,
   "metadata": {},
   "outputs": [],
   "source": [
    "#Dataset split\n",
    "\n",
    "train_size = round(len(dataset) * 0.8)\n",
    "test_size = len(dataset) - train_size\n",
    "\n",
    "train_set, test_set = torch.utils.data.random_split(dataset,[train_size, test_size])"
   ]
  },
  {
   "cell_type": "code",
   "execution_count": 6,
   "metadata": {},
   "outputs": [],
   "source": [
    "X_train = torch.empty(0, 11).float().cuda()\n",
    "y_train = torch.empty(0,1).float().cuda()\n",
    "for i, (X_data, y_data) in enumerate(train_set):\n",
    "    X_data = X_data.float().reshape(1,11).cuda()\n",
    "    X_train = torch.cat((X_train, X_data), 0)\n",
    "    \n",
    "    y_data = y_data.float().reshape(1,1).cuda()\n",
    "    y_train = torch.cat((y_train, y_data), 0)"
   ]
  },
  {
   "cell_type": "code",
   "execution_count": 7,
   "metadata": {},
   "outputs": [],
   "source": [
    "X_test = torch.empty(0, 11).float().cuda()\n",
    "y_test = torch.empty(0,1).float().cuda()\n",
    "for i, (X_data, y_data) in enumerate(test_set):\n",
    "    X_data = X_data.float().reshape(1,11).cuda()\n",
    "    X_test = torch.cat((X_test, X_data), 0)\n",
    "    \n",
    "    y_data = y_data.float().reshape(1,1).cuda()\n",
    "    y_test = torch.cat((y_test, y_data), 0)"
   ]
  },
  {
   "cell_type": "code",
   "execution_count": 8,
   "metadata": {},
   "outputs": [],
   "source": [
    "X_train = np.array(X_train.cpu())\n",
    "y_train = np.array(y_train.cpu())\n",
    "xy = np.column_stack((X_train, y_train)) \n",
    "df_train = pd.DataFrame(xy)\n",
    "df_train.columns = [\"0\", \"1\", \"2\", \"3\",\"4\",\"5\",\"6\",\"7\",\"8\",\"9\",\"10\",\"11\"]"
   ]
  },
  {
   "cell_type": "code",
   "execution_count": 9,
   "metadata": {},
   "outputs": [],
   "source": [
    "X_test = np.array(X_test.cpu())\n",
    "y_test = np.array(y_test.cpu())\n",
    "xy = np.column_stack((X_test, y_test)) \n",
    "df_test = pd.DataFrame(xy)\n",
    "df_test.columns = [\"0\", \"1\", \"2\", \"3\",\"4\",\"5\",\"6\",\"7\",\"8\",\"9\",\"10\",\"11\"]"
   ]
  },
  {
   "cell_type": "code",
   "execution_count": 10,
   "metadata": {},
   "outputs": [],
   "source": [
    "from sklearn import linear_model"
   ]
  },
  {
   "cell_type": "code",
   "execution_count": 11,
   "metadata": {},
   "outputs": [],
   "source": [
    "reg = linear_model.LinearRegression()"
   ]
  },
  {
   "cell_type": "code",
   "execution_count": 12,
   "metadata": {},
   "outputs": [
    {
     "data": {
      "text/plain": [
       "LinearRegression(copy_X=True, fit_intercept=True, n_jobs=None, normalize=False)"
      ]
     },
     "execution_count": 12,
     "metadata": {},
     "output_type": "execute_result"
    }
   ],
   "source": [
    "reg.fit(df_train[[\"0\", \"1\", \"2\", \"3\",\"4\",\"5\",\"6\",\"7\",\"8\",\"9\",\"10\"]], df_train[[\"11\"]])"
   ]
  },
  {
   "cell_type": "code",
   "execution_count": 13,
   "metadata": {},
   "outputs": [],
   "source": [
    "outputs = reg.predict(df_test[[\"0\", \"1\", \"2\", \"3\",\"4\",\"5\",\"6\",\"7\",\"8\",\"9\",\"10\"]])"
   ]
  },
  {
   "cell_type": "code",
   "execution_count": 14,
   "metadata": {},
   "outputs": [],
   "source": [
    "outputs = torch.from_numpy(outputs)\n",
    "y_test = torch.from_numpy(y_test)"
   ]
  },
  {
   "cell_type": "code",
   "execution_count": 15,
   "metadata": {},
   "outputs": [
    {
     "name": "stdout",
     "output_type": "stream",
     "text": [
      "Total MSE loss 185.2227783203125\n",
      "Total MAE loss 10.567689895629883\n",
      "Total Huber loss 10.073370933532715\n"
     ]
    }
   ],
   "source": [
    "loss_MSE = nn.MSELoss()\n",
    "loss_MAE = nn.L1Loss()\n",
    "loss_huber = nn.SmoothL1Loss()\n",
    "MSEloss = loss_MSE(outputs, y_test)\n",
    "MAEloss = loss_MAE(outputs, y_test)\n",
    "Huberloss = loss_huber(outputs, y_test)\n",
    "print('Total MSE loss', MSEloss.item())\n",
    "print('Total MAE loss', MAEloss.item())\n",
    "print('Total Huber loss', Huberloss.item())"
   ]
  },
  {
   "cell_type": "code",
   "execution_count": null,
   "metadata": {},
   "outputs": [],
   "source": []
  }
 ],
 "metadata": {
  "kernelspec": {
   "display_name": "Python 3",
   "language": "python",
   "name": "python3"
  },
  "language_info": {
   "codemirror_mode": {
    "name": "ipython",
    "version": 3
   },
   "file_extension": ".py",
   "mimetype": "text/x-python",
   "name": "python",
   "nbconvert_exporter": "python",
   "pygments_lexer": "ipython3",
   "version": "3.7.4"
  }
 },
 "nbformat": 4,
 "nbformat_minor": 2
}
